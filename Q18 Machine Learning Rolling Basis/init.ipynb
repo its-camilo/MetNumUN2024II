{
 "cells": [
  {
   "cell_type": "markdown",
   "metadata": {
    "id": "fSnhHVHWxKVV"
   },
   "source": [
    "# Dependencies"
   ]
  },
  {
   "cell_type": "markdown",
   "metadata": {
    "id": "dPRMmU6gxKVY"
   },
   "source": [
    "Use this file to add external dependencies. The evaluator will run this file **once** to prepare the environment for your strategy.\n",
    "\n",
    "Jupyter allows you to run shell commands using `!`."
   ]
  },
  {
   "cell_type": "code",
   "execution_count": 1,
   "metadata": {
    "id": "NHxIAKvuxKVZ"
   },
   "outputs": [
    {
     "name": "stdout",
     "output_type": "stream",
     "text": [
      "Error while loading conda entry point: conda-libmamba-solver (libarchive.so.20: cannot open shared object file: No such file or directory)\n",
      "/usr/local/lib/python3.10/site-packages/conda/base/context.py:982: FutureWarning: Adding 'defaults' to the channel list implicitly is deprecated and will be removed in 25.3. \n",
      "\n",
      "To remove this warning, please choose a default channel explicitly via 'conda config --add channels <name>', e.g. 'conda config --add channels defaults'.\n",
      "  deprecated.topic(\n",
      "\n",
      "     active environment : base\n",
      "    active env location : /usr/local\n",
      "            shell level : 1\n",
      "       user config file : /root/.condarc\n",
      " populated config files : \n",
      "          conda version : 24.9.1\n",
      "    conda-build version : not installed\n",
      "         python version : 3.10.13.final.0\n",
      "                 solver : libmamba (default)\n",
      "       virtual packages : __archspec=1=haswell\n",
      "                          __conda=24.9.1=0\n",
      "                          __glibc=2.31=0\n",
      "                          __linux=4.18.0=0\n",
      "                          __unix=0=0\n",
      "       base environment : /usr/local  (writable)\n",
      "      conda av data dir : /usr/local/etc/conda\n",
      "  conda av metadata url : None\n",
      "           channel URLs : https://repo.anaconda.com/pkgs/main/linux-64\n",
      "                          https://repo.anaconda.com/pkgs/main/noarch\n",
      "                          https://repo.anaconda.com/pkgs/r/linux-64\n",
      "                          https://repo.anaconda.com/pkgs/r/noarch\n",
      "          package cache : /usr/local/pkgs\n",
      "                          /root/.conda/pkgs\n",
      "       envs directories : /usr/local/envs\n",
      "                          /root/.conda/envs\n",
      "               platform : linux-64\n",
      "             user-agent : conda/24.9.1 requests/2.32.3 CPython/3.10.13 Linux/4.18.0-553.30.1.el8_10.x86_64 ubuntu/20.04.6 glibc/2.31 solver/libmamba aau/0.4.4 c/. s/. e/.\n",
      "                UID:GID : 0:0\n",
      "             netrc file : None\n",
      "           offline mode : False\n",
      "\n",
      "\n"
     ]
    }
   ],
   "source": [
    "! conda info"
   ]
  },
  {
   "cell_type": "markdown",
   "metadata": {
    "id": "PQkeCSNkxKVa"
   },
   "source": [
    "You can use it to install external dependencies. We suggest use `conda` for this:"
   ]
  },
  {
   "cell_type": "code",
   "execution_count": 2,
   "metadata": {
    "id": "Y32PB8EmxKVa"
   },
   "outputs": [],
   "source": [
    "# ! conda install -y scikit-learn"
   ]
  },
  {
   "cell_type": "markdown",
   "metadata": {
    "id": "ZDfL3M99xKVb"
   },
   "source": [
    "But you can use `pip` or other tools if you need them."
   ]
  },
  {
   "cell_type": "code",
   "execution_count": 3,
   "metadata": {
    "id": "dxPBXwzmxKVb"
   },
   "outputs": [],
   "source": [
    "# ! pip install sklearn2"
   ]
  },
  {
   "cell_type": "code",
   "execution_count": null,
   "metadata": {},
   "outputs": [],
   "source": []
  }
 ],
 "metadata": {
  "@webio": {
   "lastCommId": null,
   "lastKernelId": null
  },
  "colab": {
   "provenance": [
    {
     "file_id": "1uobG9lHBMWKQQDERRsFTn0ETLpW_WqLq",
     "timestamp": 1734508604502
    }
   ]
  },
  "kernelspec": {
   "display_name": "Python 3 (ipykernel)",
   "language": "python",
   "name": "python3"
  },
  "language_info": {
   "codemirror_mode": {
    "name": "ipython",
    "version": 3
   },
   "file_extension": ".py",
   "mimetype": "text/x-python",
   "name": "python",
   "nbconvert_exporter": "python",
   "pygments_lexer": "ipython3",
   "version": "3.10.13"
  }
 },
 "nbformat": 4,
 "nbformat_minor": 4
}
