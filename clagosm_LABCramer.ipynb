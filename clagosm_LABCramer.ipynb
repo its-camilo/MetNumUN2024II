{
  "nbformat": 4,
  "nbformat_minor": 0,
  "metadata": {
    "colab": {
      "provenance": []
    },
    "kernelspec": {
      "name": "python3",
      "display_name": "Python 3"
    },
    "language_info": {
      "name": "python"
    }
  },
  "cells": [
    {
      "cell_type": "markdown",
      "metadata": {
        "id": "view-in-github"
      },
      "source": [
        "<a href=\"https://colab.research.google.com/github/CarlosSandoval-03/MetNumUN2024II/blob/main/LabCramer/csandovalc_LABCramer.ipynb\" target=\"_parent\"><img src=\"https://colab.research.google.com/assets/colab-badge.svg\" alt=\"Open In Colab\"/></a>"
      ]
    },
    {
      "cell_type": "markdown",
      "source": [
        "### Cramer by hand\n",
        "\n",
        "$$A = \\left[\n",
        "  \\begin{array}{cc}\n",
        "1 & 2\\\\\n",
        "3 & 4\n",
        "\\end{array}\n",
        "\\right],  \n",
        "b= \\left[\n",
        "\\begin{array}{c}\n",
        "5\\\\\n",
        "6\n",
        "\\end{array}\n",
        "\\right]\n",
        "$$\n",
        "$$\n",
        "Ax =B\n",
        "$$\n",
        "$$  \n",
        "\\left[\n",
        "  \\begin{array}{cc}\n",
        "1 & 2\\\\\n",
        "3 & 4\n",
        "\\end{array}\n",
        "\\right]\n",
        "\\left[\n",
        "\\begin{array}{c}\n",
        "x_1\\\\\n",
        "x_2\n",
        "\\end{array}\n",
        "\\right]  \n",
        "=\n",
        "\\left[\n",
        "\\begin{array}{c}\n",
        "5\\\\\n",
        "6\n",
        "\\end{array}\n",
        "\\right]\n",
        "$$\n",
        "\n",
        "$$Det\\ A =  (1 * 4) - (3 * 2)  = 4 - 6 = -2$$\n",
        "\n",
        "$$A_1 = \\left[\n",
        "  \\begin{array}{cc}\n",
        "5 & 2\\\\\n",
        "6 & 4\n",
        "\\end{array}\n",
        "\\right]\n",
        "$$\n",
        "\n",
        "$$Det\\ A_1 = (5 * 4) - (6 * 2) = 20 - 12 =  8$$\n",
        "\n",
        "$$x_1 =  \\frac{Det\\ A_1}{Det\\ A}= \\frac{8}{-2} =  -4$$\n",
        "\n",
        "$$A_2 = \\left[\n",
        "  \\begin{array}{cc}\n",
        "1 & 5\\\\\n",
        "3 & 6\n",
        "\\end{array}\n",
        "\\right]\n",
        "$$\n",
        "\n",
        "$$Det\\ A_2 = (1*6) - (3*5)  = 6 -15 = -9$$\n",
        "\n",
        "$$x_2 = \\frac{Det\\ A_2}{Det\\ A}= \\frac{-9}{-2} =  \\frac{9}{2}$$"
      ],
      "metadata": {
        "id": "SUmNm2PmfHU7"
      }
    },
    {
      "cell_type": "markdown",
      "source": [
        "- ***Adding a single digit to any number requires about 7.30 bits of processing.*** - World Mental Calculation: News and Resources for Competitive and Advanced Mental Calculation https://worldmentalcalculation.com/2019/06/30/fastest-possible-processing-speed-of-the-human-brain/\n",
        "\n",
        "- ***The human brain can process 11 million bits of information every second. But our conscious minds can handle only 40 to 50 bits of information a second.*** - Understanding Unconscious Bias https://www.npr.org/2020/07/14/891140598/understanding-unconscious-bias\n",
        "\n",
        "- ***A new way to analyze human reaction times shows that the brain processes data no faster than 60 bits per second.***- New Measure of Human Brain Processing Speed https://www.technologyreview.com/2009/08/25/210267/new-measure-of-human-brain-processing-speed/\n",
        "\n",
        "\n"
      ],
      "metadata": {
        "id": "3rH8z64pk2XV"
      }
    },
    {
      "cell_type": "markdown",
      "source": [
        "# Number of operations to compute a determinant by cofactor expasion\n",
        "- Cofactor expansion https://people.math.carleton.ca/~kcheung/math/notes/MATH1107/07/07_cofactor_expansion.html\n",
        "## Definition of A(i∣j)\n",
        "Let $A$ be an $n\\times n$ matrix. Let $i,j \\in \\{1,…,n\\}$. We define $A(i∣j)$  to be the matrix obtained from $A$ by removing row $i$ and column $j$ from $A$.\n",
        "\n",
        "## Cofactor formula\n",
        "One way of computing the determinant of an $n\\times n$  matrix\n",
        "\n",
        "$$A = \\left[\n",
        "  \\begin{array}{cccc}\n",
        "a_{11} & a_{12} & \\cdots & a_{1n}\\\\\n",
        "a_{21} & a_{22} & \\cdots & a_{2n}\\\\\n",
        "\\vdots  & \\vdots & \\ddots & \\vdots\\\\\n",
        "a_{n1} & a_{n2} & \\cdots & a_{nn}\\\\\n",
        "\\end{array}\n",
        "\\right]\n",
        "$$\n",
        "is to use the following formula called the cofactor formula.\n",
        "\n",
        "Pick either any $i\\ \\in \\{1,…,n\\}$ (fixed row) or $i\\ \\in \\{1,…,n\\}$ (fixed column). Then\n",
        "\n",
        "$$\\det(A)  = \\sum_{j=1}^n (-1)^{i+j}a_{ij} \\det(A(i∣j)) $$\n",
        "\n",
        "\n",
        "$C_{i,j}= (-1)^{i+j}a_{ij} \\det(A(i∣j))$ is called a cofactor of $A$.\n",
        "\n",
        "$$\\det(A)  = \\sum_{j=1}^n C_{i,j} $$\n",
        "\n"
      ],
      "metadata": {
        "id": "CgrSIpDOnaGQ"
      }
    },
    {
      "cell_type": "code",
      "source": [
        "# Code from https://stackoverflow.com/questions/16510111/computing-determinant-of-a-matrix-nxn-recursively\n",
        "\n",
        "import numpy as np\n",
        "\n",
        "def smaller_matrix(original_matrix,row, column):\n",
        "    for ii in range(len(original_matrix)):\n",
        "        new_matrix=np.delete(original_matrix,ii,0)\n",
        "        new_matrix=np.delete(new_matrix,column,1)\n",
        "        return new_matrix\n",
        "\n",
        "\n",
        "def determinant(matrix):\n",
        "    \"\"\"Returns a determinant of a matrix by recursive method.\"\"\"\n",
        "    (r,c) = matrix.shape\n",
        "    if r != c:\n",
        "        print(\"Error!Not a square matrix!\")\n",
        "        return None\n",
        "    elif r==2:\n",
        "        simple_determinant = matrix[0][0]*matrix[1][1]-matrix[0][1]*matrix[1][0]\n",
        "        return simple_determinant\n",
        "    else:\n",
        "        answer=0\n",
        "        for j in range(r):\n",
        "            cofactor = (-1)**(0+j) * matrix[0][j] * determinant(smaller_matrix(matrix, 0, j))\n",
        "            answer+= cofactor\n",
        "        return answer"
      ],
      "metadata": {
        "id": "J-joKRBhC7eF"
      },
      "execution_count": 1,
      "outputs": []
    },
    {
      "cell_type": "code",
      "source": [
        "#test the function\n",
        "#Only works for numpy.array input\n",
        "np.random.seed(1)"
      ],
      "metadata": {
        "id": "Il2pcRD4DptG"
      },
      "execution_count": 2,
      "outputs": []
    },
    {
      "cell_type": "code",
      "source": [
        "n = 2\n",
        "matrix=np.random.randint(-5,5,size=(n,n))\n",
        "matrix"
      ],
      "metadata": {
        "colab": {
          "base_uri": "https://localhost:8080/"
        },
        "id": "AgKC1-aiFRW2",
        "outputId": "43484fc0-216c-45f4-f4ce-f9eb96150954"
      },
      "execution_count": 3,
      "outputs": [
        {
          "output_type": "execute_result",
          "data": {
            "text/plain": [
              "array([[0, 3],\n",
              "       [4, 0]])"
            ]
          },
          "metadata": {},
          "execution_count": 3
        }
      ]
    },
    {
      "cell_type": "code",
      "source": [
        "determinant(matrix)"
      ],
      "metadata": {
        "colab": {
          "base_uri": "https://localhost:8080/"
        },
        "outputId": "8ad9ec4f-0f31-4794-e2b2-91d5e1c35c12",
        "id": "oI0rUp-SDptH"
      },
      "execution_count": 4,
      "outputs": [
        {
          "output_type": "execute_result",
          "data": {
            "text/plain": [
              "-12"
            ]
          },
          "metadata": {},
          "execution_count": 4
        }
      ]
    },
    {
      "cell_type": "code",
      "source": [
        "np.linalg.det(matrix)"
      ],
      "metadata": {
        "colab": {
          "base_uri": "https://localhost:8080/"
        },
        "id": "iqZv7iK-KKXH",
        "outputId": "34584a69-396b-4474-c5b1-cc3b12ba1b51"
      },
      "execution_count": 5,
      "outputs": [
        {
          "output_type": "execute_result",
          "data": {
            "text/plain": [
              "-12.0"
            ]
          },
          "metadata": {},
          "execution_count": 5
        }
      ]
    },
    {
      "cell_type": "code",
      "source": [
        "round(np.linalg.det(matrix))"
      ],
      "metadata": {
        "colab": {
          "base_uri": "https://localhost:8080/"
        },
        "id": "sY21rHM-KdlO",
        "outputId": "ca6c8b48-365a-45ae-f4b0-dc00b9944b73"
      },
      "execution_count": 6,
      "outputs": [
        {
          "output_type": "execute_result",
          "data": {
            "text/plain": [
              "-12"
            ]
          },
          "metadata": {},
          "execution_count": 6
        }
      ]
    },
    {
      "cell_type": "code",
      "source": [
        "n = 5\n",
        "matrix=np.diag(np.random.randint(-10,10,size=(n)))\n",
        "matrix"
      ],
      "metadata": {
        "colab": {
          "base_uri": "https://localhost:8080/"
        },
        "id": "-QXGZWFIDs5k",
        "outputId": "8ece9f7d-a66d-40e5-dd4b-dc5484401160"
      },
      "execution_count": 7,
      "outputs": [
        {
          "output_type": "execute_result",
          "data": {
            "text/plain": [
              "array([[  5,   0,   0,   0,   0],\n",
              "       [  0, -10,   0,   0,   0],\n",
              "       [  0,   0,   6,   0,   0],\n",
              "       [  0,   0,   0,  -9,   0],\n",
              "       [  0,   0,   0,   0,   2]])"
            ]
          },
          "metadata": {},
          "execution_count": 7
        }
      ]
    },
    {
      "cell_type": "code",
      "source": [
        "determinant(matrix)"
      ],
      "metadata": {
        "colab": {
          "base_uri": "https://localhost:8080/"
        },
        "id": "VP6hRwhwD-3W",
        "outputId": "b4dc68c0-55d8-4ea3-d20d-a648dfbcc71f"
      },
      "execution_count": 8,
      "outputs": [
        {
          "output_type": "execute_result",
          "data": {
            "text/plain": [
              "5400"
            ]
          },
          "metadata": {},
          "execution_count": 8
        }
      ]
    },
    {
      "cell_type": "code",
      "source": [
        "np.linalg.det(matrix)"
      ],
      "metadata": {
        "colab": {
          "base_uri": "https://localhost:8080/"
        },
        "id": "8NV7Zvp-KtRz",
        "outputId": "f80d8187-76a4-425b-ae48-c17db5582a5a"
      },
      "execution_count": 9,
      "outputs": [
        {
          "output_type": "execute_result",
          "data": {
            "text/plain": [
              "5400.000000000003"
            ]
          },
          "metadata": {},
          "execution_count": 9
        }
      ]
    },
    {
      "cell_type": "code",
      "source": [
        "round(np.linalg.det(matrix))"
      ],
      "metadata": {
        "colab": {
          "base_uri": "https://localhost:8080/"
        },
        "id": "HXKK3weLKt5T",
        "outputId": "54284c21-8024-4594-8477-1f4de0c8b23a"
      },
      "execution_count": 10,
      "outputs": [
        {
          "output_type": "execute_result",
          "data": {
            "text/plain": [
              "5400"
            ]
          },
          "metadata": {},
          "execution_count": 10
        }
      ]
    },
    {
      "cell_type": "code",
      "source": [
        "# Modified from the previous code\n",
        "import numpy as np\n",
        "\n",
        "# A a squared numpy matrix\n",
        "def det(A):\n",
        "    \"\"\"Returns a determinant of a matrix by recursive method.\"\"\"\n",
        "    (r,c) = A.shape\n",
        "    if r != c:\n",
        "        print(\"Error!Not a square matrix!\")\n",
        "        return None\n",
        "    elif r==1:\n",
        "          # the code with  r==2 is more efficient but we use this\n",
        "         # because the number of operations is easier to compute\n",
        "        return A[0][0]\n",
        "    else:\n",
        "        answer=0\n",
        "        for j in range(r):\n",
        "            s = 1 if (0+j)%2 == 0 else -1\n",
        "            Aij = np.delete(A,0,0)\n",
        "            Aij = np.delete(Aij,j,1)\n",
        "            cofactor = (s) * A[0][j] * det(Aij)\n",
        "            answer+= cofactor\n",
        "        return answer"
      ],
      "metadata": {
        "id": "B258g8lnBgnG"
      },
      "execution_count": 11,
      "outputs": []
    },
    {
      "cell_type": "code",
      "source": [
        "#test the function\n",
        "#Only works for numpy.array input\n",
        "np.random.seed(1)"
      ],
      "metadata": {
        "id": "ZR2mjlqiGdM6"
      },
      "execution_count": 12,
      "outputs": []
    },
    {
      "cell_type": "code",
      "source": [
        "n = 2\n",
        "A=np.random.randint(-5,5,size=(n,n))\n",
        "A"
      ],
      "metadata": {
        "colab": {
          "base_uri": "https://localhost:8080/"
        },
        "outputId": "519390f5-9751-48b5-d7a8-75ace790324c",
        "id": "jPpBCFaoGlak"
      },
      "execution_count": 13,
      "outputs": [
        {
          "output_type": "execute_result",
          "data": {
            "text/plain": [
              "array([[0, 3],\n",
              "       [4, 0]])"
            ]
          },
          "metadata": {},
          "execution_count": 13
        }
      ]
    },
    {
      "cell_type": "code",
      "source": [
        "det(A)"
      ],
      "metadata": {
        "colab": {
          "base_uri": "https://localhost:8080/"
        },
        "outputId": "042bbd84-af3c-474c-d5ca-397d966ec13b",
        "id": "WKbuirZeGlak"
      },
      "execution_count": 14,
      "outputs": [
        {
          "output_type": "execute_result",
          "data": {
            "text/plain": [
              "-12"
            ]
          },
          "metadata": {},
          "execution_count": 14
        }
      ]
    },
    {
      "cell_type": "code",
      "source": [
        "determinant(A)"
      ],
      "metadata": {
        "colab": {
          "base_uri": "https://localhost:8080/"
        },
        "id": "_B5xBFirTvQm",
        "outputId": "7f817894-e552-4ae8-8716-3d09008ac689"
      },
      "execution_count": 15,
      "outputs": [
        {
          "output_type": "execute_result",
          "data": {
            "text/plain": [
              "-12"
            ]
          },
          "metadata": {},
          "execution_count": 15
        }
      ]
    },
    {
      "cell_type": "code",
      "source": [
        "np.linalg.det(A)"
      ],
      "metadata": {
        "colab": {
          "base_uri": "https://localhost:8080/"
        },
        "outputId": "bcd1f891-8334-4349-c046-8fc4ec754503",
        "id": "bRyF2dsFLbXC"
      },
      "execution_count": 16,
      "outputs": [
        {
          "output_type": "execute_result",
          "data": {
            "text/plain": [
              "-12.0"
            ]
          },
          "metadata": {},
          "execution_count": 16
        }
      ]
    },
    {
      "cell_type": "code",
      "source": [
        "round(np.linalg.det(A))"
      ],
      "metadata": {
        "colab": {
          "base_uri": "https://localhost:8080/"
        },
        "outputId": "4354ca81-cd6b-40a4-a863-84233a697b93",
        "id": "sOe1w9FPLbXD"
      },
      "execution_count": 17,
      "outputs": [
        {
          "output_type": "execute_result",
          "data": {
            "text/plain": [
              "-12"
            ]
          },
          "metadata": {},
          "execution_count": 17
        }
      ]
    },
    {
      "cell_type": "code",
      "source": [
        "n = 10\n",
        "\n",
        "A=np.random.randint(-10,10,size=(n,n))\n",
        "\n",
        "A"
      ],
      "metadata": {
        "colab": {
          "base_uri": "https://localhost:8080/"
        },
        "outputId": "242a164a-98f3-45ee-db54-f1274302cd2d",
        "id": "jzFX1soHGlak"
      },
      "execution_count": 18,
      "outputs": [
        {
          "output_type": "execute_result",
          "data": {
            "text/plain": [
              "array([[  5, -10,   6,  -9,   2,  -3,   3,  -4,   8,  -5],\n",
              "       [  8,   1,   0,   4,   8,  -6,  -1,   7, -10,   3],\n",
              "       [ -1,  -1,  -3,  -9, -10,   7,  -2,   3,   9,   5],\n",
              "       [  0,  -2,  -3,  -7,  -4,   7,  -7,  -6,   7,   1],\n",
              "       [  2,   6,   3,   9,  -1,   8,   5, -10,  -6,   5],\n",
              "       [ -8,  -3,  -2,  -1,  -7,  -3,  -6,  -5,   9,  -4],\n",
              "       [ -2, -10,  -8,   0,   5,   5,  -3,   9,   0,   4],\n",
              "       [-10,  -9,   7,   3,  -7, -10,   3,  -4,  -4,  -8],\n",
              "       [  2,   1,  -3,   3,  -2,   1,   2,   1,  -6,  -3],\n",
              "       [ -3,   3,  -6,   6,   8, -10,   3,   0,   7,  -3]])"
            ]
          },
          "metadata": {},
          "execution_count": 18
        }
      ]
    },
    {
      "cell_type": "code",
      "source": [
        "import time\n",
        "\n",
        "start_time = time.time()\n",
        "d = det(A)\n",
        "end_time = time.time()"
      ],
      "metadata": {
        "id": "I97qAqxGGlak"
      },
      "execution_count": 19,
      "outputs": []
    },
    {
      "cell_type": "code",
      "source": [
        "print(\"det(A): \",d)\n",
        "print(\"time: \",end_time - start_time)"
      ],
      "metadata": {
        "colab": {
          "base_uri": "https://localhost:8080/"
        },
        "id": "s7Ud-gBiTD0n",
        "outputId": "bd2703be-4d60-46b2-f4cb-ad86a579dca0"
      },
      "execution_count": 20,
      "outputs": [
        {
          "output_type": "stream",
          "name": "stdout",
          "text": [
            "det(A):  29129065307\n",
            "time:  44.516719341278076\n"
          ]
        }
      ]
    },
    {
      "cell_type": "code",
      "source": [
        "import time\n",
        "\n",
        "start_time = time.time()\n",
        "d = determinant(A)\n",
        "end_time = time.time()"
      ],
      "metadata": {
        "id": "kjLXFQOeTRd2"
      },
      "execution_count": 21,
      "outputs": []
    },
    {
      "cell_type": "code",
      "source": [
        "print(\"determinant(A): \",d)\n",
        "print(\"time: \",end_time - start_time)"
      ],
      "metadata": {
        "colab": {
          "base_uri": "https://localhost:8080/"
        },
        "id": "_TQFWy4ZSiDZ",
        "outputId": "3a31bc64-6d33-497a-d095-1edca9629991"
      },
      "execution_count": 22,
      "outputs": [
        {
          "output_type": "stream",
          "name": "stdout",
          "text": [
            "determinant(A):  29129065307\n",
            "time:  20.53032398223877\n"
          ]
        }
      ]
    },
    {
      "cell_type": "code",
      "source": [
        "import time\n",
        "\n",
        "start_time = time.time()\n",
        "d = np.linalg.det(A)\n",
        "end_time = time.time()"
      ],
      "metadata": {
        "id": "jL23i77VT55-"
      },
      "execution_count": 23,
      "outputs": []
    },
    {
      "cell_type": "code",
      "source": [
        "print(\"np.linalg.det(A): \",d)\n",
        "print(\"time: \",end_time - start_time)"
      ],
      "metadata": {
        "colab": {
          "base_uri": "https://localhost:8080/"
        },
        "id": "n94nx14VT5wn",
        "outputId": "1339bb98-1d05-4c3b-d955-fd8872742bfc"
      },
      "execution_count": 24,
      "outputs": [
        {
          "output_type": "stream",
          "name": "stdout",
          "text": [
            "np.linalg.det(A):  29129065306.99992\n",
            "time:  0.00020170211791992188\n"
          ]
        }
      ]
    },
    {
      "cell_type": "markdown",
      "source": [
        "# Estimating the time by instruction in Python in a Colab machine"
      ],
      "metadata": {
        "id": "Ssedt2z56DNC"
      }
    },
    {
      "cell_type": "code",
      "source": [
        "import numpy as np\n",
        "\n",
        "n = 100\n",
        "\n",
        "A = np.ones((n,n))\n",
        "\n",
        "A"
      ],
      "metadata": {
        "colab": {
          "base_uri": "https://localhost:8080/"
        },
        "id": "1KhlyeNi4uwa",
        "outputId": "0d8f86de-f4e7-4e68-d4e9-3e19d03b3839"
      },
      "execution_count": 25,
      "outputs": [
        {
          "output_type": "execute_result",
          "data": {
            "text/plain": [
              "array([[1., 1., 1., ..., 1., 1., 1.],\n",
              "       [1., 1., 1., ..., 1., 1., 1.],\n",
              "       [1., 1., 1., ..., 1., 1., 1.],\n",
              "       ...,\n",
              "       [1., 1., 1., ..., 1., 1., 1.],\n",
              "       [1., 1., 1., ..., 1., 1., 1.],\n",
              "       [1., 1., 1., ..., 1., 1., 1.]])"
            ]
          },
          "metadata": {},
          "execution_count": 25
        }
      ]
    },
    {
      "cell_type": "code",
      "source": [
        "B = np.ones((n,n))\n",
        "\n",
        "B"
      ],
      "metadata": {
        "colab": {
          "base_uri": "https://localhost:8080/"
        },
        "id": "RKtHO3UY5M87",
        "outputId": "e381c5d6-17f1-4187-9983-b3bedde20b57"
      },
      "execution_count": 26,
      "outputs": [
        {
          "output_type": "execute_result",
          "data": {
            "text/plain": [
              "array([[1., 1., 1., ..., 1., 1., 1.],\n",
              "       [1., 1., 1., ..., 1., 1., 1.],\n",
              "       [1., 1., 1., ..., 1., 1., 1.],\n",
              "       ...,\n",
              "       [1., 1., 1., ..., 1., 1., 1.],\n",
              "       [1., 1., 1., ..., 1., 1., 1.],\n",
              "       [1., 1., 1., ..., 1., 1., 1.]])"
            ]
          },
          "metadata": {},
          "execution_count": 26
        }
      ]
    },
    {
      "cell_type": "code",
      "source": [
        "import time\n",
        "\n",
        "C= np.zeros((n,n))\n",
        "\n",
        "start_time = time.time()\n",
        "for i in range(n):\n",
        "        for j in range(n):\n",
        "            C[i][j] = 0\n",
        "            for k in range(len(A[0])):\n",
        "                C[i][j] += A[i][k] * B[k][j]\n",
        "end_time = time.time()\n",
        "print(end_time - start_time)"
      ],
      "metadata": {
        "colab": {
          "base_uri": "https://localhost:8080/"
        },
        "id": "0UFSLi-F5P0a",
        "outputId": "3d667067-a723-4f8b-ab97-f360593bc049"
      },
      "execution_count": 27,
      "outputs": [
        {
          "output_type": "stream",
          "name": "stdout",
          "text": [
            "0.7737400531768799\n"
          ]
        }
      ]
    },
    {
      "cell_type": "code",
      "source": [
        "C"
      ],
      "metadata": {
        "colab": {
          "base_uri": "https://localhost:8080/"
        },
        "id": "h9zr4Z9P61bs",
        "outputId": "12fb46e3-c9cd-4db5-f087-e12b0ac963bc"
      },
      "execution_count": 28,
      "outputs": [
        {
          "output_type": "execute_result",
          "data": {
            "text/plain": [
              "array([[100., 100., 100., ..., 100., 100., 100.],\n",
              "       [100., 100., 100., ..., 100., 100., 100.],\n",
              "       [100., 100., 100., ..., 100., 100., 100.],\n",
              "       ...,\n",
              "       [100., 100., 100., ..., 100., 100., 100.],\n",
              "       [100., 100., 100., ..., 100., 100., 100.],\n",
              "       [100., 100., 100., ..., 100., 100., 100.]])"
            ]
          },
          "metadata": {},
          "execution_count": 28
        }
      ]
    },
    {
      "cell_type": "code",
      "source": [
        "time_by_oper_python = (end_time - start_time)/(2*n**3 - n**2)\n",
        "\n",
        "time_by_oper_python"
      ],
      "metadata": {
        "colab": {
          "base_uri": "https://localhost:8080/"
        },
        "id": "iEhaMEK77Ko7",
        "outputId": "2b566b29-5d33-4b1d-acc5-04c461d5197f"
      },
      "execution_count": 29,
      "outputs": [
        {
          "output_type": "execute_result",
          "data": {
            "text/plain": [
              "3.88814097073809e-07"
            ]
          },
          "metadata": {},
          "execution_count": 29
        }
      ]
    },
    {
      "cell_type": "code",
      "source": [
        "import time\n",
        "import numpy as np\n",
        "\n",
        "start_time = time.time()\n",
        "C = A@B\n",
        "end_time = time.time()\n",
        "print(end_time - start_time)"
      ],
      "metadata": {
        "colab": {
          "base_uri": "https://localhost:8080/"
        },
        "id": "TfGsw6UF9o-a",
        "outputId": "8ed88726-3924-4956-c18c-8f23393beefa"
      },
      "execution_count": 30,
      "outputs": [
        {
          "output_type": "stream",
          "name": "stdout",
          "text": [
            "0.00779414176940918\n"
          ]
        }
      ]
    },
    {
      "cell_type": "code",
      "source": [
        "C"
      ],
      "metadata": {
        "colab": {
          "base_uri": "https://localhost:8080/"
        },
        "id": "Q5MtZtVT93oQ",
        "outputId": "2ab310e6-01bd-4a42-f195-83506e6fb9ab"
      },
      "execution_count": 31,
      "outputs": [
        {
          "output_type": "execute_result",
          "data": {
            "text/plain": [
              "array([[100., 100., 100., ..., 100., 100., 100.],\n",
              "       [100., 100., 100., ..., 100., 100., 100.],\n",
              "       [100., 100., 100., ..., 100., 100., 100.],\n",
              "       ...,\n",
              "       [100., 100., 100., ..., 100., 100., 100.],\n",
              "       [100., 100., 100., ..., 100., 100., 100.],\n",
              "       [100., 100., 100., ..., 100., 100., 100.]])"
            ]
          },
          "metadata": {},
          "execution_count": 31
        }
      ]
    },
    {
      "cell_type": "code",
      "source": [
        "time_by_oper_numpy = (end_time - start_time)/(2*n**3 - n**2)\n",
        "\n",
        "time_by_oper_numpy"
      ],
      "metadata": {
        "colab": {
          "base_uri": "https://localhost:8080/"
        },
        "id": "DTVYQYxT-TsJ",
        "outputId": "2bb9f7f9-1310-4332-dffa-2f40453c2c74"
      },
      "execution_count": 32,
      "outputs": [
        {
          "output_type": "execute_result",
          "data": {
            "text/plain": [
              "3.916654155482e-09"
            ]
          },
          "metadata": {},
          "execution_count": 32
        }
      ]
    },
    {
      "cell_type": "markdown",
      "source": [
        "# Time estimation for the digital computer computation of a 3 x 3 matrix determinant by cofactor expansion\n",
        "\n",
        "The number of operations $(+,-,*)$ perfomed  *det(A)* algorithm that calculates\n",
        "\n",
        "$$\\det(A)  = \\sum_{j=1}^n (-1)^{i+j}a_{ij} \\det(A(i∣j)) $$\n",
        "\n",
        "is given by\n",
        "\n",
        "$$\\begin{array}{lll}\n",
        "T(n) & =&  nT(n-1) + 5n , T(1) = 1\\\\\n",
        "\\end{array}\n",
        "$$\n",
        "\n",
        "$$\\begin{array}{lll}\n",
        "T(n) & =&  nT(n-1) + 5n\\\\\n",
        "     & =&  n[(n-1) T(n-2) + 5 (n-1) +10] + 5n  \\\\\n",
        "     & =&  n(n-1) T(n-2) + 5 n  (n-1) + 5n \\\\\n",
        "     & =&  n(n-1) [(n-2) T(n-3) + 5 (n-2)] + 5 n(n-1) + 5n\\\\\n",
        "     & = & n(n-1)(n-2) T(n-3) + 5n(n-1)(n-2)+  5 n  (n-1) + 5n \\\\\n",
        "     & \\vdots\\\\\n",
        "     & = &  n(n-1)(n-2)\\cdots (n -(n-2))  T(1) + [5n(n-1)(n-2)(n-3)\\cdots (n -(n-3))] + \\cdots + [5 n (n-1)]+ 5n \\\\\n",
        "    & = & n! + [5n(n-1)(n-2)(n-3)\\cdots 2] + [5n(n-1)(n-2)(n-3)\\cdots 3]+ \\cdots +[5 n (n-1) (n-3)] + [5 n (n-1)]+ 5n  \n",
        "\\end{array}\n",
        "$$\n",
        "\n",
        "$$T(n) = n! + 5 \\sum_{i=0}^{n-1} n!/i! = n! + 5 n!\\sum_{i=0}^{n-1} \\frac{1}{i!} < n! + 5 e n! < 16 n!  $$\n",
        "\n",
        "1. Asumming that an arithmetic operation takes the *time_by_oper_python* estimated before,  what is the maximun square matrix size for which the deteminant can be computed with cofactor extesion in $\\le$ 3 minute. Report the time at [LABCramer](https://docs.google.com/spreadsheets/d/1JNUbuj3QHcyPmp8i6kNreUFucj2mOvKHkCFHHy7zfws/edit?usp=sharing).\n",
        "\n",
        "2. Run an experiment with a random matrix of that size and report the time at [LABCramer](https://docs.google.com/spreadsheets/d/1JNUbuj3QHcyPmp8i6kNreUFucj2mOvKHkCFHHy7zfws/edit?usp=sharing).\n",
        "\n",
        "If the determinant of a $n \\times n$ square matrix takes $16 n!$ operations how much takes the Crammer solution of $n \\times n$ systems of linear equations?\n",
        "\n",
        "\n",
        "\n",
        "\n"
      ],
      "metadata": {
        "id": "PhAai3wzo_Tc"
      }
    },
    {
      "cell_type": "markdown",
      "source": [
        "## Response 1\n",
        "\n",
        "$$T(n) < 16\\ n!$$\n",
        "\n",
        "$$t_{op} = 3.88 \\cdot 10^{-7}\\ \\text{segundos}$$\n",
        "\n",
        "$$16\\ n! \\cdot t_{op} < 180\\ \\text{segundos}$$\n",
        "\n",
        "$$n! \\leq \\frac{180}{16 \\cdot 3.88 \\cdot 10^{-7}} \\approx 2.90 \\cdot 10^{7}$$\n",
        "\n",
        "Verifiquemos para distintos valores de \\( n \\):\n",
        "\n",
        "$$10! = 3\\,628\\,800 \\approx 3.63 \\cdot 10^{6} < 2.90 \\cdot 10^{7}$$\n",
        "\n",
        "$$11! = 39\\,916\\,800 \\approx 3.99 \\cdot 10^{7} > 2.90 \\cdot 10^{7}$$\n",
        "\n",
        "Por lo tanto, el tamaño máximo es \\( n = 10 \\).\n",
        "\n",
        "$$T(10) < 16 \\cdot 10! = 16 \\cdot 3\\,628\\,800 = 58\\,060\\,800\\ \\text{operaciones}$$\n",
        "\n",
        "Multiplicando por el tiempo por operación:\n",
        "\n",
        "$$\\text{Tiempo} = 58\\,060\\,800 \\cdot 3.88 \\cdot 10^{-7} \\approx 22.53\\ \\text{segundos}$$"
      ],
      "metadata": {
        "id": "h3Rc4DCbM3pS"
      }
    },
    {
      "cell_type": "markdown",
      "source": [
        "## Response 2"
      ],
      "metadata": {
        "id": "JuRFvifDTIx_"
      }
    },
    {
      "cell_type": "code",
      "source": [
        "import math\n",
        "\n",
        "def tiempo_cof(n):\n",
        "    return math.factorial(n) + 5 * sum(math.factorial(n) // math.factorial(i) for i in range(n))\n",
        "\n",
        "time_by_oper_python= 5.85225*10**-7\n",
        "\n",
        "tiempo_limite = 3 * 60\n",
        "\n",
        "n = 1\n",
        "while True:\n",
        "    tiempo_total = tiempo_cof(n) * time_by_oper_python\n",
        "    if tiempo_total > tiempo_limite:\n",
        "        break\n",
        "    n += 1\n",
        "print(\"El tamaño máximo de matriz cuadrada es:\", n-1)\n",
        "print(\"El tiempo total en segundos es:\", tiempo_cof(n-1) * time_by_oper_python)"
      ],
      "metadata": {
        "colab": {
          "base_uri": "https://localhost:8080/"
        },
        "id": "g1947lE2QZ3t",
        "outputId": "4c61cd48-c074-4e0e-d323-3f3b7fd11497"
      },
      "execution_count": 33,
      "outputs": [
        {
          "output_type": "stream",
          "name": "stdout",
          "text": [
            "El tamaño máximo de matriz cuadrada es: 10\n",
            "El tiempo total en segundos es: 30.9872540925\n"
          ]
        }
      ]
    },
    {
      "cell_type": "markdown",
      "source": [
        "# Time estimation for the human computer computation of a 3 x 3 matrix determinant by cofactor expansion\n",
        "\n",
        " Write a 3 x 3 matrix with the first element as your list number Mod 10 and the rest row by row 1,2,3,...9 skipimg the first element, by example if youir list number is 12, your list number Mod 10 is 2 and the matrix is\n",
        "$$A = \\left[\n",
        "  \\begin{array}{ccc}\n",
        "2 & 1 & 3\\\\\n",
        "4 & 5 & 6\\\\\n",
        "7 & 8 & 9\\\\\n",
        "\\end{array}\n",
        "\\right]\n",
        "$$\n",
        "Use a chronometer like http://online-stopwatch.chronme.com/ to estimate the time to compute the determinant by using the procedure in the follo wing exmaple (https://people.math.carleton.ca/~kcheung/math/notes/MATH1107/07/07_cofactor_expansion.html):<br />  \n",
        "Let\n",
        "$$A = \\begin{bmatrix} 10 & 2 & 3\\\\ 4 & 5 & 6\\\\ 7 & 8 & 9 \\end{bmatrix}$$\n",
        "we compute $\\det(A)$ by expanding along row $2$ as <br /> <br />\n",
        "$$\\begin{eqnarray} \\det(A) & = & (-1)^{2+1}A_{2,1}\\det(A(2 \\mid 1)) + (-1)^{2+2}A_{2,2}\\det(A(2 \\mid 2)) + (-1)^{2+3}A_{2,3}\\det(A(2 \\mid 3)) \\\\ & = & -4\\left|\\begin{matrix} 2 & 3 \\\\ 8 & 9\\end{matrix}\\right| + 5\\left|\\begin{matrix} 10 & 3 \\\\ 7 & 9\\end{matrix}\\right| - 6\\left|\\begin{matrix} 10 & 2 \\\\ 7 & 8\\end{matrix}\\right| \\\\ & = & -4(2\\cdot 9 - 3\\cdot 8) + 5(10 \\cdot 9- 3\\cdot 7) - 6(10\\cdot 8 - 2 \\cdot 7) \\\\ & = & 24 + 345 - 396 \\\\ & = & -27\\end{eqnarray}$$\n",
        "\n",
        "3. Report the time at [LABCramer](https://docs.google.com/spreadsheets/d/1JNUbuj3QHcyPmp8i6kNreUFucj2mOvKHkCFHHy7zfws/edit?usp=sharing)\n",
        "4. Report the value of the determinant at [LABCramer](https://docs.google.com/spreadsheets/d/1JNUbuj3QHcyPmp8i6kNreUFucj2mOvKHkCFHHy7zfws/edit?usp=sharing)\n",
        "\n",
        "The one grading verifies with with [matrixcalc](https://matrixcalc.org)\n",
        "\n",
        "The number of operations that we as a human requird to caculate this 3x3 matrix determinat using cofactors is 17.\n",
        "- The number of operations to caculate each cofactor is 5:  1 addition (row + column)  + 1 sign verification (if row + column is even positive and negtive otherwise) + 2 multiplications  + 1 substraction.\n",
        "- The number operations to calculate the 3 cofactors is 3x5 = 15.\n",
        "- To add the 3 cofactores we need (2 additions).\n",
        "- So the total is 3x5 + 2  = 17.\n",
        "\n",
        "\n",
        "\n"
      ],
      "metadata": {
        "id": "__brdhGadAXY"
      }
    },
    {
      "cell_type": "markdown",
      "source": [
        "## Response 3\n",
        "\n",
        "$$7\\ mod\\ 10 \\cong 7$$\n",
        "\n",
        "Matrix:\n",
        "\n",
        "$$A = \\left[\n",
        "  \\begin{array}{ccc}\n",
        "7 & 1 & 2\\\\\n",
        "4 & 5 & 6\\\\\n",
        "7 & 8 & 9\\\\\n",
        "\\end{array}\n",
        "\\right]\n",
        "$$\n",
        "\n",
        "Expanding around col 1.\n",
        "\n",
        "$$ |A| = 7 \\cdot \\left[\n",
        "  \\begin{array}{cc}\n",
        "5 & 6\\\\\n",
        "4 & 5\\\\\n",
        "\\end{array}\n",
        "\\right] - 1 \\cdot \\left[\n",
        "  \\begin{array}{cc}\n",
        "4 & 6\\\\\n",
        "7 & 9\\\\\n",
        "\\end{array}\n",
        "\\right] + 2 \\cdot \\left[\n",
        "  \\begin{array}{cc}\n",
        "4 & 5\\\\\n",
        "7 & 8\\\\\n",
        "\\end{array}\n",
        "\\right]\n",
        "$$\n",
        "\n",
        "Resolving\n",
        "$$|A| = 7 \\cdot (45-48) - 1 \\cdot (36-42) + 2 \\cdot (32-45)$$\n",
        "$$|A| = 7 \\cdot (-3) - 1 \\cdot (-6) + 2 \\cdot (-3)$$\n",
        "$$|A| = -21 +6 - 6$$\n",
        "$$|A| = -21$$"
      ],
      "metadata": {
        "id": "z2-mi9ftTH53"
      }
    },
    {
      "cell_type": "markdown",
      "source": [
        "![image.png](data:image/png;base64,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)"
      ],
      "metadata": {
        "id": "6bIWrK6bkLKZ"
      }
    }
  ]
}