{
  "nbformat": 4,
  "nbformat_minor": 0,
  "metadata": {
    "colab": {
      "provenance": []
    },
    "kernelspec": {
      "name": "python3",
      "display_name": "Python 3"
    }
  },
  "cells": [
    {
      "cell_type": "markdown",
      "source": [
        "# 1. Solve the using *LUsolve* from sympy the   2 $\\times$ 2 system $Ax=b$, inside the function *LUsolve_2_by_2_lin_sys* with\n",
        "\n",
        "$$A = \\left[\n",
        "  \\begin{array}{cc}\n",
        "e & i\\\\\n",
        " \\sqrt{2}& \\pi\n",
        "\\end{array}\n",
        "\\right]\n",
        "$$\n",
        "\n",
        "$$b  = \\left[\n",
        "  \\begin{array}{c}\n",
        "\\sqrt{3} \\\\\n",
        "1\n",
        "\\end{array}\n",
        "\\right]\n",
        "$$"
      ],
      "metadata": {
        "id": "Voh5FtIzbcn3"
      }
    },
    {
      "cell_type": "code",
      "source": [
        "from sympy import *\n",
        "init_printing()\n",
        "\n",
        "from sympy import *\n",
        "init_printing()\n",
        "\n",
        "def LUsolve_2_by_2_lin_sys():\n",
        "\n",
        "  A = Matrix([[E,I],\n",
        "            [sqrt(2),pi]])\n",
        "  b = Matrix(2,1,[sqrt(3),1])\n",
        "\n",
        "  x = A.LUsolve(b)\n",
        "\n",
        "  return x"
      ],
      "metadata": {
        "id": "2rXVy2w_Re5Z"
      },
      "execution_count": 5,
      "outputs": []
    },
    {
      "cell_type": "code",
      "source": [
        "LUsolve_2_by_2_lin_sys()"
      ],
      "metadata": {
        "colab": {
          "base_uri": "https://localhost:8080/",
          "height": 102
        },
        "id": "kPobJ9f9Y5xd",
        "outputId": "53f2b656-fa23-4f81-92e3-470f411ecc7f"
      },
      "execution_count": 6,
      "outputs": [
        {
          "output_type": "execute_result",
          "data": {
            "text/plain": [
              "⎡⎛       ⎛      -1    ⎞⎞    ⎤\n",
              "⎢⎜     ⅈ⋅⎝- √6⋅ℯ   + 1⎠⎟  -1⎥\n",
              "⎢⎜√3 - ────────────────⎟⋅ℯ  ⎥\n",
              "⎢⎜                 -1  ⎟    ⎥\n",
              "⎢⎝       π - √2⋅ⅈ⋅ℯ    ⎠    ⎥\n",
              "⎢                           ⎥\n",
              "⎢             -1            ⎥\n",
              "⎢       - √6⋅ℯ   + 1        ⎥\n",
              "⎢       ────────────        ⎥\n",
              "⎢                 -1        ⎥\n",
              "⎣       π - √2⋅ⅈ⋅ℯ          ⎦"
            ],
            "text/latex": "$\\displaystyle \\left[\\begin{matrix}\\frac{\\sqrt{3} - \\frac{i \\left(- \\frac{\\sqrt{6}}{e} + 1\\right)}{\\pi - \\frac{\\sqrt{2} i}{e}}}{e}\\\\\\frac{- \\frac{\\sqrt{6}}{e} + 1}{\\pi - \\frac{\\sqrt{2} i}{e}}\\end{matrix}\\right]$"
          },
          "metadata": {},
          "execution_count": 6
        }
      ]
    },
    {
      "cell_type": "markdown",
      "source": [
        "# 2. Solve the using *solve* from sympy the   2 $\\times$ 2 system $Ax=b$, inside the function *solve_2_by_2_lin_sys* with\n",
        "\n",
        "$$A = \\left[\n",
        "  \\begin{array}{cc}\n",
        "e & i\\\\\n",
        " \\sqrt{2}& \\pi\n",
        "\\end{array}\n",
        "\\right]\n",
        "$$\n",
        "\n",
        "$$b  = \\left[\n",
        "  \\begin{array}{c}\n",
        "\\sqrt{3} \\\\\n",
        "1\n",
        "\\end{array}\n",
        "\\right]\n",
        "$$"
      ],
      "metadata": {
        "id": "zTeu2Yzicj0m"
      }
    },
    {
      "cell_type": "code",
      "source": [
        "from sympy import *\n",
        "init_printing()\n",
        "\n",
        "def solve_2_by_2_lin_sys():\n",
        "\n",
        "  A = Matrix([[E,I],\n",
        "            [sqrt(2),pi]])\n",
        "  b = Matrix(2,1,[sqrt(3),1])\n",
        "  x = Matrix(2,1,symbols('x1:3'))\n",
        "  sol = linsolve(list(A@x - b), list(x))\n",
        "\n",
        "  return sol"
      ],
      "metadata": {
        "id": "56WRBbMTReea"
      },
      "execution_count": 7,
      "outputs": []
    },
    {
      "cell_type": "code",
      "source": [
        "solve_2_by_2_lin_sys()"
      ],
      "metadata": {
        "id": "fdet93PHZB5P",
        "outputId": "8b1cef87-af56-47b0-d458-558ebb8a4025",
        "colab": {
          "base_uri": "https://localhost:8080/",
          "height": 68
        }
      },
      "execution_count": 8,
      "outputs": [
        {
          "output_type": "execute_result",
          "data": {
            "text/plain": [
              "⎧⎛      √2⋅ⅈ           √6⋅π            2⋅√3           √2⋅ℯ    ⎞⎫\n",
              "⎨⎜- ──────────── + ────────────, - ──────────── + ────────────⎟⎬\n",
              "⎩⎝  √2⋅ℯ⋅π - 2⋅ⅈ   √2⋅ℯ⋅π - 2⋅ⅈ    √2⋅ℯ⋅π - 2⋅ⅈ   √2⋅ℯ⋅π - 2⋅ⅈ⎠⎭"
            ],
            "text/latex": "$\\displaystyle \\left\\{\\left( - \\frac{\\sqrt{2} i}{\\sqrt{2} e \\pi - 2 i} + \\frac{\\sqrt{6} \\pi}{\\sqrt{2} e \\pi - 2 i}, \\  - \\frac{2 \\sqrt{3}}{\\sqrt{2} e \\pi - 2 i} + \\frac{\\sqrt{2} e}{\\sqrt{2} e \\pi - 2 i}\\right)\\right\\}$"
          },
          "metadata": {},
          "execution_count": 8
        }
      ]
    }
  ]
}